{
 "cells": [
  {
   "cell_type": "code",
   "execution_count": 1,
   "id": "dfa72a74",
   "metadata": {},
   "outputs": [],
   "source": [
    "import cvxpy as cp # python 3.7 로 해야.... 하루종일 걸려서 발견...\n",
    "import pandas as pd\n",
    "import numpy as np \n",
    "import matplotlib.pyplot as plt\n",
    "import seaborn as sns\n",
    "import datetime \n",
    "import pickle \n",
    "\n",
    "from pypfopt import EfficientFrontier\n",
    "from pypfopt import risk_models\n",
    "from pypfopt import expected_returns\n",
    "\n",
    "from IPython.display import Image\n"
   ]
  },
  {
   "cell_type": "code",
   "execution_count": 2,
   "id": "badf32de",
   "metadata": {},
   "outputs": [],
   "source": [
    "from labelling import XYGeneration"
   ]
  },
  {
   "cell_type": "markdown",
   "id": "24532a34",
   "metadata": {},
   "source": [
    "# Dataloading"
   ]
  },
  {
   "cell_type": "markdown",
   "id": "62235d41",
   "metadata": {},
   "source": [
    "## X loading "
   ]
  },
  {
   "cell_type": "code",
   "execution_count": 3,
   "id": "c6cf7553",
   "metadata": {},
   "outputs": [],
   "source": [
    "\n",
    "def pd_setting(dataframe):\n",
    "    dataframe.rename(columns = {'Unnamed: 0':'Date'}, inplace = True)\n",
    "    dataframe['Date'] = dataframe.Date.apply(lambda x : datetime.datetime.strptime(x, '%Y-%m-%d') )\n",
    "    dataframe = dataframe.set_index(['Date'])\n",
    "\n",
    "    return dataframe"
   ]
  },
  {
   "cell_type": "code",
   "execution_count": 4,
   "id": "8a38b148",
   "metadata": {},
   "outputs": [],
   "source": [
    "price_df = pd_setting(pd.read_csv(\"./data/features/price_df.csv\"))\n",
    "mu_df = pd_setting(pd.read_csv(\"./data/features/mu_df.csv\"))\n",
    "sigma_df = pd_setting(pd.read_csv(\"./data/features/sigma_df.csv\"))"
   ]
  },
  {
   "cell_type": "code",
   "execution_count": 5,
   "id": "2bd5d231",
   "metadata": {},
   "outputs": [
    {
     "data": {
      "text/plain": [
       "(7931, 27)"
      ]
     },
     "execution_count": 5,
     "metadata": {},
     "output_type": "execute_result"
    }
   ],
   "source": [
    "price_df.shape"
   ]
  },
  {
   "cell_type": "markdown",
   "id": "1ebb7b92",
   "metadata": {},
   "source": [
    "## Y loading"
   ]
  },
  {
   "cell_type": "code",
   "execution_count": 6,
   "id": "75a4139b",
   "metadata": {},
   "outputs": [],
   "source": [
    "feat_date = list(price_df.index)"
   ]
  },
  {
   "cell_type": "code",
   "execution_count": 7,
   "id": "20289f70",
   "metadata": {},
   "outputs": [],
   "source": [
    "dff = pd.read_csv(\"./data/df_XY.csv\")\n",
    "dff.rename(columns = {'Unnamed: 0':'Date'}, inplace = True)\n",
    "dff['Date'] = dff.Date.apply(lambda x : datetime.datetime.strptime(x, '%Y-%m-%d') )\n",
    "dff = dff.set_index(['Date'])\n",
    "\n",
    "dfy = dff.loc[feat_date]\n",
    "# extracting Y columns\n",
    "Y_col = [x for x in dfy.columns if x[-2:]=='_Y']\n",
    "dfy = dfy[Y_col]"
   ]
  },
  {
   "cell_type": "code",
   "execution_count": 8,
   "id": "9f69d215",
   "metadata": {},
   "outputs": [
    {
     "data": {
      "text/plain": [
       "(7931, 9)"
      ]
     },
     "execution_count": 8,
     "metadata": {},
     "output_type": "execute_result"
    }
   ],
   "source": [
    "dfy.shape"
   ]
  },
  {
   "cell_type": "markdown",
   "id": "3fe73a9e",
   "metadata": {},
   "source": [
    "# XY Generation\n",
    "- df_target : dfy\n",
    "- df_intput : price_df, mu_df, sigma_df"
   ]
  },
  {
   "cell_type": "markdown",
   "id": "7a8dd384",
   "metadata": {},
   "source": [
    "## Scaling"
   ]
  },
  {
   "cell_type": "code",
   "execution_count": 9,
   "id": "2f6a2b0b",
   "metadata": {},
   "outputs": [],
   "source": [
    "from sklearn.preprocessing import MinMaxScaler\n",
    "from sklearn.preprocessing import StandardScaler"
   ]
  },
  {
   "cell_type": "code",
   "execution_count": 10,
   "id": "4adeb979",
   "metadata": {},
   "outputs": [],
   "source": [
    "dff_col_name = price_df.columns"
   ]
  },
  {
   "cell_type": "code",
   "execution_count": 11,
   "id": "d7a5cb38",
   "metadata": {},
   "outputs": [
    {
     "data": {
      "text/plain": [
       "(8184, 27)"
      ]
     },
     "execution_count": 11,
     "metadata": {},
     "output_type": "execute_result"
    }
   ],
   "source": [
    "dff.shape"
   ]
  },
  {
   "cell_type": "code",
   "execution_count": 12,
   "id": "4acbb120",
   "metadata": {},
   "outputs": [
    {
     "data": {
      "text/plain": [
       "(7931, 27)"
      ]
     },
     "execution_count": 12,
     "metadata": {},
     "output_type": "execute_result"
    }
   ],
   "source": [
    "price_df.shape"
   ]
  },
  {
   "cell_type": "code",
   "execution_count": 13,
   "id": "087f8c8b",
   "metadata": {},
   "outputs": [],
   "source": [
    "def scaler(df):\n",
    "    df_col_name = df.columns\n",
    "    feat_date = list(df.index)\n",
    "\n",
    "    min_max_scaler = MinMaxScaler()\n",
    "    min_max_scaler.fit(df)\n",
    "    df_mm = min_max_scaler.transform(df)\n",
    "    df_mm = pd.DataFrame(df_mm, columns = df_col_name, index = feat_date)\n",
    "    \n",
    "    return df_mm"
   ]
  },
  {
   "cell_type": "code",
   "execution_count": 14,
   "id": "9234cc39",
   "metadata": {},
   "outputs": [],
   "source": [
    "#### scaling ####\n",
    "price_df_mm = scaler(price_df)\n",
    "mu_df_mm = scaler(mu_df)\n",
    "sigma_df_mm = scaler(sigma_df)"
   ]
  },
  {
   "cell_type": "markdown",
   "id": "d6331279",
   "metadata": {},
   "source": [
    "# Dataset Generation & Labelling"
   ]
  },
  {
   "cell_type": "code",
   "execution_count": 15,
   "id": "2fac14a9",
   "metadata": {},
   "outputs": [],
   "source": [
    "# in_past_seq < tr_past_seq\n",
    "in_past_seq = 240 # 6 months  \n",
    "tr_past_seq = 253 # pr1yr\n",
    "rf = 0.02"
   ]
  },
  {
   "cell_type": "code",
   "execution_count": 16,
   "id": "e282dbd4",
   "metadata": {},
   "outputs": [],
   "source": [
    "# Loading generator\n",
    "generator = XYGeneration(dfy, tr_past_seq, rf)\n",
    "\n",
    "# Y labelling \n",
    "Y, Y_date, Y_tot_date = generator.Y_generation()"
   ]
  },
  {
   "cell_type": "markdown",
   "id": "31eea0cf",
   "metadata": {},
   "source": [
    "### X concatenation "
   ]
  },
  {
   "cell_type": "code",
   "execution_count": 17,
   "id": "24318c46",
   "metadata": {},
   "outputs": [],
   "source": [
    "# feature slicing & date slicing \n",
    "x_p, X_date = generator.X_generation(price_df_mm, in_past_seq)\n",
    "x_m, _ = generator.X_generation(mu_df_mm, in_past_seq)\n",
    "x_s, _ = generator.X_generation(sigma_df_mm, in_past_seq)"
   ]
  },
  {
   "cell_type": "code",
   "execution_count": 18,
   "id": "20cb4e13",
   "metadata": {},
   "outputs": [],
   "source": [
    "# features concatenating\n",
    "X = []\n",
    "for i in range(len(X_date)):\n",
    "    x_p_arr = np.expand_dims(x_p[i], -1)\n",
    "    x_m_arr = np.expand_dims(x_m[i], -1)\n",
    "    x_s_arr = np.expand_dims(x_s[i], -1)\n",
    "    \n",
    "    X_arr = np.concatenate([x_p_arr, x_m_arr, x_s_arr], axis = -1)\n",
    "    \n",
    "    X.append(X_arr)\n",
    "    "
   ]
  },
  {
   "cell_type": "markdown",
   "id": "b3b204cc",
   "metadata": {},
   "source": [
    "# DataLoader\n",
    "\n",
    "- TESTING\n",
    "- one-step ahead validation \n",
    "\n",
    "<img src=\"img/one step ahead validation.png\" width=\"800\" height=\"400\">"
   ]
  },
  {
   "cell_type": "code",
   "execution_count": 19,
   "id": "e1c81d97",
   "metadata": {},
   "outputs": [],
   "source": [
    "from torch.utils.data import DataLoader\n",
    "import torch"
   ]
  },
  {
   "cell_type": "code",
   "execution_count": 20,
   "id": "e5edbc82",
   "metadata": {},
   "outputs": [],
   "source": [
    "one_step_ahead = 0 "
   ]
  },
  {
   "cell_type": "code",
   "execution_count": 21,
   "id": "7bb86fcc",
   "metadata": {},
   "outputs": [
    {
     "data": {
      "text/plain": [
       "353"
      ]
     },
     "execution_count": 21,
     "metadata": {},
     "output_type": "execute_result"
    }
   ],
   "source": [
    "len(X)"
   ]
  },
  {
   "cell_type": "code",
   "execution_count": 22,
   "id": "35c61472",
   "metadata": {},
   "outputs": [
    {
     "data": {
      "text/plain": [
       "240"
      ]
     },
     "execution_count": 22,
     "metadata": {},
     "output_type": "execute_result"
    }
   ],
   "source": [
    "len(X_date[0])"
   ]
  },
  {
   "cell_type": "code",
   "execution_count": 23,
   "id": "48a14bc5",
   "metadata": {},
   "outputs": [],
   "source": [
    "num_nodes = X[0].shape[1]\n",
    "feat_dim = X[0].shape[-1]\n",
    "\n",
    "# num_val = round(num_train*0.2)\n",
    "num_samples = len(X)\n",
    "num_train = round(len(X)*0.7) + one_step_ahead\n",
    "# num_test = num_samples - num_train\n",
    "\n",
    "num_test = 1\n",
    "\n",
    "## train & test split\n",
    "x_train, y_train = X[:num_train], Y[:num_train]\n",
    "# x_val, y_val = X[num_train : num_train+num_val], Y[num_train : num_train+num_val]\n",
    "x_test , y_test = X[num_train : num_train+1], Y[num_train : num_train+1]"
   ]
  },
  {
   "cell_type": "code",
   "execution_count": 24,
   "id": "d3f9ec14",
   "metadata": {},
   "outputs": [
    {
     "data": {
      "text/plain": [
       "106"
      ]
     },
     "execution_count": 24,
     "metadata": {},
     "output_type": "execute_result"
    }
   ],
   "source": [
    "num_samples - num_train"
   ]
  },
  {
   "cell_type": "code",
   "execution_count": 25,
   "id": "5d9ffdc5",
   "metadata": {},
   "outputs": [],
   "source": [
    "\n",
    "train_date_x, train_date_y = X_date[:num_train], Y_date[:num_train]\n",
    "# 미래 한달 \n",
    "test_date_x, test_date_y = X_date[num_train:num_train+1], Y_date[num_train:num_train+1]\n",
    "test_date_tot_y = Y_tot_date[num_train:num_train+1] # labelling 계산할 때 씌인 기간 "
   ]
  },
  {
   "cell_type": "code",
   "execution_count": 26,
   "id": "e83341a2",
   "metadata": {},
   "outputs": [
    {
     "data": {
      "text/plain": [
       "353"
      ]
     },
     "execution_count": 26,
     "metadata": {},
     "output_type": "execute_result"
    }
   ],
   "source": [
    "len(Y_date)"
   ]
  },
  {
   "cell_type": "code",
   "execution_count": 27,
   "id": "11d45ed8",
   "metadata": {},
   "outputs": [
    {
     "data": {
      "text/plain": [
       "274"
      ]
     },
     "execution_count": 27,
     "metadata": {},
     "output_type": "execute_result"
    }
   ],
   "source": [
    "len(test_date_tot_y[0])"
   ]
  },
  {
   "cell_type": "code",
   "execution_count": 28,
   "id": "d4ef133f",
   "metadata": {},
   "outputs": [],
   "source": [
    "train_iter = ([(torch.from_numpy(x).float(),torch.from_numpy(y).float()) for x,y in zip(x_train, y_train)])\n",
    "# val_iter = ([(torch.from_numpy(x).float(),torch.from_numpy(y).float()) for x,y in zip(x_val, y_val)])\n",
    "test_iter = ([(torch.from_numpy(x).float(),torch.from_numpy(y).float()) for x,y in zip(x_test, y_test)])\n"
   ]
  },
  {
   "cell_type": "code",
   "execution_count": 29,
   "id": "b0363bed",
   "metadata": {},
   "outputs": [],
   "source": [
    "### dataloader\n",
    "train_dataloader = DataLoader(train_iter, batch_size=12, shuffle=True, drop_last = True)\n",
    "# valid_dataloader = DataLoader(val_iter, batch_size=12, shuffle=True, drop_last = True)\n",
    "test_dataloader = DataLoader(test_iter, batch_size=1, shuffle=True, drop_last = True)"
   ]
  },
  {
   "cell_type": "markdown",
   "id": "1fb851d5",
   "metadata": {},
   "source": [
    "# Model "
   ]
  },
  {
   "cell_type": "code",
   "execution_count": 30,
   "id": "293b6ca1",
   "metadata": {},
   "outputs": [],
   "source": [
    "import torch\n",
    "import torch.nn as nn\n",
    "import torch.nn.functional as F\n",
    "from torch.autograd import Variable\n",
    "\n",
    "\n",
    "\n",
    "\n",
    "class LSTM_Model(nn.Module):\n",
    "    \n",
    "    def __init__(self, X_assets_num, past_seq, Y_asset_num, dim_num, num_layers, device):\n",
    "        super(LSTM_Model, self).__init__()\n",
    "        self.embedding_in_dim = dim_num\n",
    "        self.num_layers = num_layers\n",
    "        \n",
    "        self.lstm_in_dim = X_assets_num\n",
    "        self.lstm_out_dim = X_assets_num \n",
    "        \n",
    "        self.fc_in_dim = past_seq\n",
    "    \n",
    "        self.fc2_out_dim = Y_asset_num\n",
    "        self.embedding = nn.Conv2d(self.embedding_in_dim, 1, kernel_size = (1,1))\n",
    "        self.lstm = nn.LSTM(self.lstm_in_dim, self.lstm_out_dim, num_layers = self.num_layers, batch_first = True)\n",
    "        self.fc = nn.Conv2d(self.fc_in_dim, 1, kernel_size= (1,1))\n",
    "        self.fc2 = nn.Conv2d(self.lstm_out_dim, self.fc2_out_dim, kernel_size = (1,1))\n",
    "#         self.fc = nn.Conv2d(self.fc_out_dim, self.fc_out_dim, kernel_size= (1,1))\n",
    "        \n",
    "        \n",
    "    def forward(self, x):\n",
    "        batch_size = x.size(0)\n",
    "        \n",
    "        x = x.transpose(3,1)\n",
    "        x = self.embedding(x)\n",
    "        x = x.transpose(1,3)\n",
    "        if x.shape[0] != 1:\n",
    "            x = x.squeeze() # [b, L, N]\n",
    "        else:\n",
    "            x = torch.squeeze(x, 3)\n",
    "        hidden_init = torch.zeros(self.num_layers, batch_size, self.lstm_out_dim).to(device)\n",
    "        cell_init = torch.zeros(self.num_layers, batch_size, self.lstm_out_dim).to(device)\n",
    "#         print (x.shape)\n",
    "        output, hidden = self.lstm(x, (hidden_init, cell_init))\n",
    "        output = output.unsqueeze(-1) # [b, L, n, 1]\n",
    "    \n",
    "        prediction = self.fc(output).permute(0,2,1,3) # [b, 1, n, 1] --> [b,n,1,1]\n",
    "        prediction = self.fc2(prediction).transpose(1,3) \n",
    "                # [b,n,1,1] --> [b,9,1,1] --> [b,n,1,1] --> [b,1,1,9]\n",
    "        prediction = prediction.squeeze()       \n",
    "        \n",
    "        return prediction         \n",
    "        \n",
    "\n"
   ]
  },
  {
   "cell_type": "code",
   "execution_count": 34,
   "id": "34082f95",
   "metadata": {},
   "outputs": [],
   "source": [
    "device = torch.device(\"cuda:1\")\n",
    "num_nodes = 27\n",
    "\n",
    "past_seq = 240\n",
    "Y_asset_num = 9\n",
    "\n",
    "dim_num = 3\n",
    "num_layers = 1\n",
    "\n",
    "learning_rate = 0.001\n",
    "wdecay = 0.001"
   ]
  },
  {
   "cell_type": "code",
   "execution_count": 35,
   "id": "067bd9a4",
   "metadata": {},
   "outputs": [],
   "source": [
    "# model \n",
    "model = LSTM_Model(num_nodes, past_seq, Y_asset_num, dim_num, num_layers, device)\n",
    "model.to(device) # model loading\n",
    "\n",
    "criterion = torch.nn.L1Loss() # MAE \n",
    "# criterion = torch.nn.MSELoss() # MSE \n",
    "\n",
    "# criterion = torch.nn.L1Loss() # MAE \n",
    "optimizer = torch.optim.Adam(model.parameters(), lr = learning_rate, weight_decay = wdecay)"
   ]
  },
  {
   "cell_type": "markdown",
   "id": "2056416c",
   "metadata": {},
   "source": [
    "# Training"
   ]
  },
  {
   "cell_type": "code",
   "execution_count": 36,
   "id": "efe6aca3",
   "metadata": {},
   "outputs": [
    {
     "name": "stdout",
     "output_type": "stream",
     "text": [
      "Epoch 10| tarin loss : 0.004407622758299113\n",
      "Epoch 20| tarin loss : 0.0023964386607985945\n",
      "Epoch 30| tarin loss : 0.0017583537497557699\n",
      "Epoch 40| tarin loss : 0.002288015856174752\n",
      "Epoch 50| tarin loss : 0.003186258499044925\n"
     ]
    }
   ],
   "source": [
    "num_epochs = 50\n",
    "\n",
    "loss_train = []\n",
    "loss_valid = []\n",
    "\n",
    "for epoch in range(1, num_epochs+1):\n",
    "    model.train()\n",
    "\n",
    "    epoch_train_loss = [] # loss average for one epoch\n",
    "    epoch_valid_loss = []\n",
    "##### training \n",
    "    for data in train_dataloader:\n",
    "        optimizer.zero_grad()\n",
    "\n",
    "        train_X, train_Y = data\n",
    "\n",
    "        train_X = torch.Tensor(train_X).to(device)\n",
    "        train_Y = torch.Tensor(train_Y).to(device)\n",
    "#         print ('X : ', train_X.size())\n",
    "#         print ('Y : ', train_Y.size())\n",
    "        train_out = model(train_X)\n",
    "#         print ('out : ', train_out.size())\n",
    "\n",
    "#         print('out: ',train_out.size())\n",
    "\n",
    "        loss = criterion(train_out,train_Y)\n",
    "        optimizer.zero_grad()\n",
    "        loss.backward()\n",
    "        optimizer.step()\n",
    "\n",
    "        epoch_train_loss.append(loss.item())\n",
    "\n",
    "    loss_train.append(np.mean(epoch_train_loss))\n",
    "    \n",
    "# ##### validation \n",
    "#     for data in valid_dataloader:\n",
    "#         valid_X, valid_Y = data\n",
    "#         valid_X = valid_X.transpose(3,1)\n",
    "#         valid_X = nn.functional.pad(valid_X, (kernel_size-1,0,0,0))\n",
    "        \n",
    "#         valid_X = torch.Tensor(valid_X).to(device)\n",
    "#         valid_Y = torch.Tensor(valid_Y).to(device)\n",
    "        \n",
    "#         valid_out, _ = model(valid_X)\n",
    "#         valid_out = valid_out.squeeze()\n",
    "        \n",
    "#         loss = criterion(valid_out, valid_Y)\n",
    "        \n",
    "#         epoch_valid_loss.append(loss.item())\n",
    "#     loss_valid.append(np.mean(epoch_valid_loss))\n",
    "    \n",
    "#     if epoch%50 == 0:\n",
    "#         print (\"Epoch {}| tarin loss : {}, valid loss : {}\".format(epoch,np.mean(epoch_train_loss), np.mean(epoch_valid_loss)))\n",
    "    \n",
    "    if epoch%10 == 0:\n",
    "        print (\"Epoch {}| tarin loss : {}\".format(epoch,np.mean(epoch_train_loss)))"
   ]
  },
  {
   "cell_type": "code",
   "execution_count": 37,
   "id": "874ab479",
   "metadata": {},
   "outputs": [
    {
     "data": {
      "text/plain": [
       "<matplotlib.legend.Legend at 0x7f8b20732310>"
      ]
     },
     "execution_count": 37,
     "metadata": {},
     "output_type": "execute_result"
    },
    {
     "data": {
      "image/png": "[encoded data removed]",
      "text/plain": [
       "<Figure size 1440x720 with 1 Axes>"
      ]
     },
     "metadata": {
      "needs_background": "light"
     },
     "output_type": "display_data"
    }
   ],
   "source": [
    "plt.figure(figsize = (20,10))\n",
    "plt.plot(loss_train, label = 'train')\n",
    "# plt.plot(loss_valid, label = 'valid')\n",
    "plt.xticks(fontsize = 15)\n",
    "plt.yticks(fontsize = 15)\n",
    "plt.legend(fontsize = (20))"
   ]
  },
  {
   "cell_type": "code",
   "execution_count": 38,
   "id": "65d74583",
   "metadata": {},
   "outputs": [
    {
     "data": {
      "image/png": "[encoded data removed]",
      "text/plain": [
       "<Figure size 1080x360 with 1 Axes>"
      ]
     },
     "metadata": {
      "needs_background": "light"
     },
     "output_type": "display_data"
    }
   ],
   "source": [
    "plt.figure(figsize = (15,5))\n",
    "plt.bar(Y_col,train_Y[10].detach().cpu())\n",
    "plt.tick_params(width=1)\n",
    "plt.xticks(fontsize = 15)\n",
    "plt.yticks(fontsize = 15)\n",
    "plt.show()"
   ]
  },
  {
   "cell_type": "code",
   "execution_count": 39,
   "id": "f01b5f5f",
   "metadata": {},
   "outputs": [
    {
     "data": {
      "text/plain": [
       "tensor([ 0.2327,  0.2539,  0.2554,  0.1666,  0.0011, -0.0012,  0.0639,  0.0404,\n",
       "        -0.0024])"
      ]
     },
     "execution_count": 39,
     "metadata": {},
     "output_type": "execute_result"
    }
   ],
   "source": [
    "train_out[10].detach().cpu()"
   ]
  },
  {
   "cell_type": "code",
   "execution_count": 40,
   "id": "2b459a58",
   "metadata": {},
   "outputs": [
    {
     "data": {
      "image/png": "[encoded data removed]",
      "text/plain": [
       "<Figure size 1080x360 with 1 Axes>"
      ]
     },
     "metadata": {
      "needs_background": "light"
     },
     "output_type": "display_data"
    }
   ],
   "source": [
    "plt.figure(figsize = (15,5))\n",
    "plt.bar(Y_col,train_out[10].detach().cpu())\n",
    "plt.tick_params(width=1)\n",
    "plt.xticks(fontsize = 15)\n",
    "plt.yticks(fontsize = 15)\n",
    "plt.show()"
   ]
  },
  {
   "cell_type": "markdown",
   "id": "2520dfba",
   "metadata": {},
   "source": [
    "# Testing \n",
    "- one-step ahead validation \n",
    "\n",
    "<img src=\"img/one step ahead validation.png\" width=\"800\" height=\"400\">"
   ]
  },
  {
   "cell_type": "code",
   "execution_count": 42,
   "id": "5ade6d1f",
   "metadata": {},
   "outputs": [],
   "source": [
    "model.eval()\n",
    "\n",
    "test_loss = []\n",
    "##### TESTING ##############\n",
    "for data in test_dataloader:\n",
    "    test_X, test_Y = data\n",
    "    test_X = torch.Tensor(test_X).to(device)\n",
    "    test_Y = torch.Tensor(test_Y).to(device)\n",
    "\n",
    "    test_out = model(test_X)\n",
    "    \n",
    "    loss = criterion(test_out, test_Y)\n",
    "\n",
    "    test_loss.append(loss.item())\n",
    "\n",
    "\n",
    "    \n",
    "# loss_valid.append(np.mean(epoch_valid_loss))\n"
   ]
  },
  {
   "cell_type": "code",
   "execution_count": 45,
   "id": "cf60f3ba",
   "metadata": {},
   "outputs": [
    {
     "data": {
      "text/plain": [
       "'./RESULT/LSTM_120_seq/result'"
      ]
     },
     "execution_count": 45,
     "metadata": {},
     "output_type": "execute_result"
    }
   ],
   "source": [
    "import os\n",
    "output_dir = './RESULT/LSTM_120_seq'\n",
    "os.path.join(output_dir,'result')"
   ]
  },
  {
   "cell_type": "code",
   "execution_count": 43,
   "id": "1a24b7eb",
   "metadata": {},
   "outputs": [
    {
     "data": {
      "text/plain": [
       "[0.004314220044761896]"
      ]
     },
     "execution_count": 43,
     "metadata": {},
     "output_type": "execute_result"
    }
   ],
   "source": [
    "test_loss"
   ]
  },
  {
   "cell_type": "code",
   "execution_count": null,
   "id": "6ca37f98",
   "metadata": {},
   "outputs": [],
   "source": [
    "z = torch.rand((1,2,3,1))\n"
   ]
  },
  {
   "cell_type": "markdown",
   "id": "3223fa54",
   "metadata": {},
   "source": [
    "# Saving values\n",
    "- three lists \n",
    "     1. [pred weight, 수익률, volatility]\n",
    "     2. [true weight, 수익률, volatility]\n",
    "     3. [loss, future 1 month date, columns] \n",
    "  \n",
    "- 수익률, volatility\n",
    "    - 정해진 weight 로 미래 한달간 가격에 대한 weighted log-return \n"
   ]
  },
  {
   "cell_type": "code",
   "execution_count": null,
   "id": "96d5bed7",
   "metadata": {},
   "outputs": [],
   "source": [
    "def return_volatility(df_bench):\n",
    "    '''\n",
    "    return & volatility\n",
    "    '''  \n",
    "    logret = np.log(df_bench/df_bench.shift(1)).dropna()\n",
    "    T = logret.shape[0]\n",
    "\n",
    "    sigma = logret.cov() * T # annualize sigma (check again)\n",
    "    mu = logret.mean()*T\n",
    "\n",
    "    return mu, sigma"
   ]
  },
  {
   "cell_type": "code",
   "execution_count": null,
   "id": "2890253a",
   "metadata": {},
   "outputs": [],
   "source": [
    "dfy"
   ]
  },
  {
   "cell_type": "code",
   "execution_count": null,
   "id": "2719bb8d",
   "metadata": {},
   "outputs": [],
   "source": [
    "### 라벨링 할 때 쓰였던 동일한 기간에 대한 수익률과 volatility 구한다. \n",
    "# price slicing\n",
    "test_price = dfy.loc[test_date_tot_y[0][0]:test_date_tot_y[0][-1]]\n",
    "# test_price = dfy.loc[test_date_y[0][0]:test_date_y[0][-1]]\n",
    "# bench mu, volatility calculation \n",
    "test_mu, test_sigma = return_volatility(test_price)"
   ]
  },
  {
   "cell_type": "code",
   "execution_count": null,
   "id": "5cef97a5",
   "metadata": {},
   "outputs": [],
   "source": [
    "test_price.plot()"
   ]
  },
  {
   "cell_type": "code",
   "execution_count": null,
   "id": "ddae16d2",
   "metadata": {},
   "outputs": [],
   "source": [
    "test_sigma"
   ]
  },
  {
   "cell_type": "code",
   "execution_count": null,
   "id": "fe0f8188",
   "metadata": {},
   "outputs": [],
   "source": [
    "# weight setting\n",
    "pred_w = test_out.detach().cpu()[0].numpy()\n",
    "true_w = test_Y.detach().cpu()[0].numpy()"
   ]
  },
  {
   "cell_type": "markdown",
   "id": "9adda415",
   "metadata": {},
   "source": [
    "### mu, sigma rebalancing\n"
   ]
  },
  {
   "cell_type": "code",
   "execution_count": null,
   "id": "7133b354",
   "metadata": {},
   "outputs": [],
   "source": [
    "# mu\n",
    "pred_mu = round(pred_w.dot(test_mu.values), 5)\n",
    "true_mu = round(true_w.dot(test_mu.values), 5)\n",
    "\n",
    "# sigma\n",
    "pred_sigma = round(np.sqrt(pred_w.dot(test_sigma.values).dot(pred_w.T)), 5)\n",
    "true_sigma = round(np.sqrt(true_w.dot(test_sigma.values).dot(true_w.T)), 5)"
   ]
  },
  {
   "cell_type": "code",
   "execution_count": null,
   "id": "4bdee3fc",
   "metadata": {},
   "outputs": [],
   "source": [
    "true_sigma"
   ]
  },
  {
   "cell_type": "markdown",
   "id": "09f02cf8",
   "metadata": {},
   "source": [
    "## Saving as one dataframe"
   ]
  },
  {
   "cell_type": "code",
   "execution_count": null,
   "id": "604a314d",
   "metadata": {},
   "outputs": [],
   "source": [
    "fold_dict = {}\n",
    "fold_dict['Date']= ([[test_date_y[0][0], test_date_y[0][-1]]])\n",
    "# fold_dict['X_date'] = ([[test_date_x_m[0], test_date_x_m[-1]]])\n",
    "fold_dict['pred_w']= [list(pred_w)]\n",
    "fold_dict['pred_mu']= pred_mu\n",
    "fold_dict['pred_sigma']=pred_sigma\n",
    "fold_dict['true_w']=[list(true_w)]\n",
    "fold_dict['true_mu']=true_mu\n",
    "fold_dict['true_sigma']=true_sigma\n",
    "fold_dict['test_loss(%)']=round(test_loss[0], 4)*100\n"
   ]
  },
  {
   "cell_type": "code",
   "execution_count": null,
   "id": "e57055cd",
   "metadata": {},
   "outputs": [],
   "source": [
    "a = pd.DataFrame.from_dict(fold_dict)"
   ]
  },
  {
   "cell_type": "code",
   "execution_count": null,
   "id": "c2682527",
   "metadata": {},
   "outputs": [],
   "source": [
    "a"
   ]
  },
  {
   "cell_type": "code",
   "execution_count": null,
   "id": "9c0fa92d",
   "metadata": {},
   "outputs": [],
   "source": []
  },
  {
   "cell_type": "code",
   "execution_count": null,
   "id": "e868a327",
   "metadata": {},
   "outputs": [],
   "source": []
  },
  {
   "cell_type": "code",
   "execution_count": null,
   "id": "ad3bb36c",
   "metadata": {},
   "outputs": [],
   "source": []
  },
  {
   "cell_type": "code",
   "execution_count": null,
   "id": "8c10716c",
   "metadata": {},
   "outputs": [],
   "source": []
  },
  {
   "cell_type": "code",
   "execution_count": null,
   "id": "124153e6",
   "metadata": {},
   "outputs": [],
   "source": []
  },
  {
   "cell_type": "code",
   "execution_count": null,
   "id": "ec8df6c6",
   "metadata": {},
   "outputs": [],
   "source": []
  },
  {
   "cell_type": "code",
   "execution_count": null,
   "id": "de5434b8",
   "metadata": {},
   "outputs": [],
   "source": []
  },
  {
   "cell_type": "code",
   "execution_count": null,
   "id": "ab260f6a",
   "metadata": {},
   "outputs": [],
   "source": []
  },
  {
   "cell_type": "code",
   "execution_count": null,
   "id": "c7445715",
   "metadata": {},
   "outputs": [],
   "source": []
  },
  {
   "cell_type": "code",
   "execution_count": null,
   "id": "e4d8ebad",
   "metadata": {},
   "outputs": [],
   "source": []
  },
  {
   "cell_type": "code",
   "execution_count": null,
   "id": "22bcaf9c",
   "metadata": {},
   "outputs": [],
   "source": []
  },
  {
   "cell_type": "code",
   "execution_count": null,
   "id": "5ef29890",
   "metadata": {},
   "outputs": [],
   "source": []
  },
  {
   "cell_type": "code",
   "execution_count": null,
   "id": "976585ec",
   "metadata": {},
   "outputs": [],
   "source": []
  },
  {
   "cell_type": "code",
   "execution_count": null,
   "id": "6eba48a6",
   "metadata": {},
   "outputs": [],
   "source": []
  },
  {
   "cell_type": "code",
   "execution_count": null,
   "id": "8a0ba342",
   "metadata": {},
   "outputs": [],
   "source": [
    "with open(\"./RESULT/result_{}.pickle\".format(1), 'wb') as f:\n",
    "    pickle.dump(a, f)"
   ]
  },
  {
   "cell_type": "code",
   "execution_count": null,
   "id": "7a8e9a15",
   "metadata": {},
   "outputs": [],
   "source": [
    "with open(\"./RESULT/result_{}.pickle\".format(1), 'rb') as f:\n",
    "    res = pickle.load(f)"
   ]
  },
  {
   "cell_type": "code",
   "execution_count": null,
   "id": "4fb1d4e7",
   "metadata": {},
   "outputs": [],
   "source": [
    "pd.DataFrame(pd.read_pickle(\"./RESULT/result_{}.pickle\".format(1)))"
   ]
  },
  {
   "cell_type": "code",
   "execution_count": null,
   "id": "d73934f9",
   "metadata": {},
   "outputs": [],
   "source": [
    "df = pd.DataFrame(pd.read_pickle(os.path.join(event_speed_path, f_name)))\n",
    "    "
   ]
  },
  {
   "cell_type": "code",
   "execution_count": null,
   "id": "3a98eca0",
   "metadata": {},
   "outputs": [],
   "source": []
  },
  {
   "cell_type": "code",
   "execution_count": null,
   "id": "79f9629b",
   "metadata": {},
   "outputs": [],
   "source": []
  },
  {
   "cell_type": "code",
   "execution_count": null,
   "id": "c06f0a40",
   "metadata": {},
   "outputs": [],
   "source": []
  },
  {
   "cell_type": "code",
   "execution_count": null,
   "id": "49b85795",
   "metadata": {},
   "outputs": [],
   "source": []
  },
  {
   "cell_type": "code",
   "execution_count": null,
   "id": "49fe3871",
   "metadata": {},
   "outputs": [],
   "source": []
  },
  {
   "cell_type": "code",
   "execution_count": null,
   "id": "8cc52056",
   "metadata": {},
   "outputs": [],
   "source": [
    "test_price.plot()"
   ]
  },
  {
   "cell_type": "code",
   "execution_count": null,
   "id": "08eaa643",
   "metadata": {},
   "outputs": [],
   "source": [
    "list(dff.columns).index('Cash_Y')"
   ]
  },
  {
   "cell_type": "code",
   "execution_count": null,
   "id": "584fa1a2",
   "metadata": {},
   "outputs": [],
   "source": [
    "list(dff.columns)"
   ]
  },
  {
   "cell_type": "code",
   "execution_count": null,
   "id": "a0186237",
   "metadata": {},
   "outputs": [],
   "source": [
    "adp[20]"
   ]
  },
  {
   "cell_type": "code",
   "execution_count": null,
   "id": "2971747f",
   "metadata": {},
   "outputs": [],
   "source": [
    "test_out.detach().cpu()[0]"
   ]
  },
  {
   "cell_type": "code",
   "execution_count": null,
   "id": "11a4eae6",
   "metadata": {},
   "outputs": [],
   "source": [
    "test_Y.detach().cpu()[0]"
   ]
  },
  {
   "cell_type": "code",
   "execution_count": null,
   "id": "fbad6911",
   "metadata": {},
   "outputs": [],
   "source": []
  },
  {
   "cell_type": "code",
   "execution_count": null,
   "id": "4a53f95a",
   "metadata": {},
   "outputs": [],
   "source": [
    "test_out.detach().cpu()[0]"
   ]
  },
  {
   "cell_type": "code",
   "execution_count": null,
   "id": "a30ca0e6",
   "metadata": {},
   "outputs": [],
   "source": [
    "\n",
    "plt.figure(figsize = (15,5))\n",
    "plt.bar(Y_col,test_out.detach().cpu()[0])\n",
    "plt.tick_params(width=1)\n",
    "plt.xticks(fontsize = 10)\n",
    "plt.yticks(fontsize = 10)\n",
    "plt.title(\"{}~{}\".format(test_date_y[0][0],test_date_y[0][1]))\n",
    "plt.show()"
   ]
  },
  {
   "cell_type": "code",
   "execution_count": null,
   "id": "3e766aea",
   "metadata": {},
   "outputs": [],
   "source": [
    "test_Y.detach().cpu()"
   ]
  }
 ],
 "metadata": {
  "kernelspec": {
   "display_name": "QRFT",
   "language": "python",
   "name": "qrft"
  },
  "language_info": {
   "codemirror_mode": {
    "name": "ipython",
    "version": 3
   },
   "file_extension": ".py",
   "mimetype": "text/x-python",
   "name": "python",
   "nbconvert_exporter": "python",
   "pygments_lexer": "ipython3",
   "version": "3.7.10"
  }
 },
 "nbformat": 4,
 "nbformat_minor": 5
}
