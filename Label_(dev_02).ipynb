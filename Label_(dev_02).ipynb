{
 "cells": [
  {
   "cell_type": "code",
   "execution_count": 1,
   "id": "1046c29d",
   "metadata": {},
   "outputs": [],
   "source": [
    "import cvxpy as cp # python 3.7 로 해야.... 하루종일 걸려서 발견...\n",
    "import pandas as pd\n",
    "import numpy as np \n",
    "import matplotlib.pyplot as plt\n",
    "import seaborn as sns\n",
    "import datetime \n",
    "import pickle "
   ]
  },
  {
   "cell_type": "code",
   "execution_count": 2,
   "id": "0b440b9d",
   "metadata": {},
   "outputs": [],
   "source": [
    "# https://skyeong.net/271\n",
    "# https://www.forecaster.site/portfolio-optimization-with-python/\n",
    "# https://pyportfolioopt.readthedocs.io/en/latest/index.html\n",
    "#https://math.stackexchange.com/questions/1319406/maximizing-the-sharpe-ratio-by-finding-the-optimal-weights"
   ]
  },
  {
   "cell_type": "code",
   "execution_count": 3,
   "id": "38405579",
   "metadata": {},
   "outputs": [],
   "source": [
    "df_tar = pd.read_csv(\"./data/Toy_data_target.csv\")"
   ]
  },
  {
   "cell_type": "code",
   "execution_count": 4,
   "id": "4f71374a",
   "metadata": {},
   "outputs": [
    {
     "data": {
      "text/html": [
       "<div>\n",
       "<style scoped>\n",
       "    .dataframe tbody tr th:only-of-type {\n",
       "        vertical-align: middle;\n",
       "    }\n",
       "\n",
       "    .dataframe tbody tr th {\n",
       "        vertical-align: top;\n",
       "    }\n",
       "\n",
       "    .dataframe thead th {\n",
       "        text-align: right;\n",
       "    }\n",
       "</style>\n",
       "<table border=\"1\" class=\"dataframe\">\n",
       "  <thead>\n",
       "    <tr style=\"text-align: right;\">\n",
       "      <th></th>\n",
       "      <th>Date</th>\n",
       "      <th>TLT</th>\n",
       "      <th>EMB</th>\n",
       "      <th>AGG</th>\n",
       "      <th>Cash</th>\n",
       "      <th>SPY</th>\n",
       "      <th>EFA</th>\n",
       "      <th>VWO</th>\n",
       "      <th>GLD</th>\n",
       "      <th>DBC</th>\n",
       "    </tr>\n",
       "  </thead>\n",
       "  <tbody>\n",
       "    <tr>\n",
       "      <th>0</th>\n",
       "      <td>1980-01-01</td>\n",
       "      <td>NaN</td>\n",
       "      <td>NaN</td>\n",
       "      <td>1000.00000</td>\n",
       "      <td>NaN</td>\n",
       "      <td>1000.000000</td>\n",
       "      <td>1000.00000</td>\n",
       "      <td>NaN</td>\n",
       "      <td>1000.000000</td>\n",
       "      <td>NaN</td>\n",
       "    </tr>\n",
       "    <tr>\n",
       "      <th>1</th>\n",
       "      <td>1980-01-02</td>\n",
       "      <td>NaN</td>\n",
       "      <td>NaN</td>\n",
       "      <td>1000.00000</td>\n",
       "      <td>NaN</td>\n",
       "      <td>979.803595</td>\n",
       "      <td>1000.00000</td>\n",
       "      <td>NaN</td>\n",
       "      <td>1092.773438</td>\n",
       "      <td>NaN</td>\n",
       "    </tr>\n",
       "    <tr>\n",
       "      <th>2</th>\n",
       "      <td>1980-01-03</td>\n",
       "      <td>NaN</td>\n",
       "      <td>NaN</td>\n",
       "      <td>1000.00000</td>\n",
       "      <td>NaN</td>\n",
       "      <td>974.800815</td>\n",
       "      <td>1000.00000</td>\n",
       "      <td>NaN</td>\n",
       "      <td>1238.281250</td>\n",
       "      <td>NaN</td>\n",
       "    </tr>\n",
       "    <tr>\n",
       "      <th>3</th>\n",
       "      <td>1980-01-04</td>\n",
       "      <td>NaN</td>\n",
       "      <td>NaN</td>\n",
       "      <td>1000.00000</td>\n",
       "      <td>NaN</td>\n",
       "      <td>986.844543</td>\n",
       "      <td>1000.00000</td>\n",
       "      <td>NaN</td>\n",
       "      <td>1148.437500</td>\n",
       "      <td>NaN</td>\n",
       "    </tr>\n",
       "    <tr>\n",
       "      <th>4</th>\n",
       "      <td>1980-01-07</td>\n",
       "      <td>NaN</td>\n",
       "      <td>NaN</td>\n",
       "      <td>1000.00000</td>\n",
       "      <td>NaN</td>\n",
       "      <td>989.531221</td>\n",
       "      <td>1000.00000</td>\n",
       "      <td>NaN</td>\n",
       "      <td>1237.304688</td>\n",
       "      <td>NaN</td>\n",
       "    </tr>\n",
       "    <tr>\n",
       "      <th>...</th>\n",
       "      <td>...</td>\n",
       "      <td>...</td>\n",
       "      <td>...</td>\n",
       "      <td>...</td>\n",
       "      <td>...</td>\n",
       "      <td>...</td>\n",
       "      <td>...</td>\n",
       "      <td>...</td>\n",
       "      <td>...</td>\n",
       "      <td>...</td>\n",
       "    </tr>\n",
       "    <tr>\n",
       "      <th>10788</th>\n",
       "      <td>2021-05-07</td>\n",
       "      <td>10044.636410</td>\n",
       "      <td>12407.69618</td>\n",
       "      <td>18639.68512</td>\n",
       "      <td>9195.975652</td>\n",
       "      <td>79683.136810</td>\n",
       "      <td>32776.74957</td>\n",
       "      <td>17588.93250</td>\n",
       "      <td>3449.782195</td>\n",
       "      <td>3901.717983</td>\n",
       "    </tr>\n",
       "    <tr>\n",
       "      <th>10789</th>\n",
       "      <td>2021-05-10</td>\n",
       "      <td>9942.914377</td>\n",
       "      <td>12379.90294</td>\n",
       "      <td>18610.40217</td>\n",
       "      <td>9196.330422</td>\n",
       "      <td>78894.114390</td>\n",
       "      <td>32601.45952</td>\n",
       "      <td>17260.16018</td>\n",
       "      <td>3460.235035</td>\n",
       "      <td>3874.636158</td>\n",
       "    </tr>\n",
       "    <tr>\n",
       "      <th>10790</th>\n",
       "      <td>2021-05-11</td>\n",
       "      <td>9886.637481</td>\n",
       "      <td>12350.99587</td>\n",
       "      <td>18569.73844</td>\n",
       "      <td>9196.472964</td>\n",
       "      <td>78189.984420</td>\n",
       "      <td>32173.46756</td>\n",
       "      <td>17214.12733</td>\n",
       "      <td>3460.837116</td>\n",
       "      <td>3916.300121</td>\n",
       "    </tr>\n",
       "    <tr>\n",
       "      <th>10791</th>\n",
       "      <td>2021-05-12</td>\n",
       "      <td>9782.748695</td>\n",
       "      <td>12238.70061</td>\n",
       "      <td>18504.68865</td>\n",
       "      <td>9196.595708</td>\n",
       "      <td>76528.838200</td>\n",
       "      <td>31659.85032</td>\n",
       "      <td>16773.58338</td>\n",
       "      <td>3426.457160</td>\n",
       "      <td>3912.133177</td>\n",
       "    </tr>\n",
       "    <tr>\n",
       "      <th>10792</th>\n",
       "      <td>2021-05-13</td>\n",
       "      <td>9797.902172</td>\n",
       "      <td>12302.07261</td>\n",
       "      <td>18546.97186</td>\n",
       "      <td>9196.670147</td>\n",
       "      <td>77448.179130</td>\n",
       "      <td>31896.25442</td>\n",
       "      <td>16753.85765</td>\n",
       "      <td>3440.529620</td>\n",
       "      <td>3803.810122</td>\n",
       "    </tr>\n",
       "  </tbody>\n",
       "</table>\n",
       "<p>10793 rows × 10 columns</p>\n",
       "</div>"
      ],
      "text/plain": [
       "             Date           TLT          EMB          AGG         Cash  \\\n",
       "0      1980-01-01           NaN          NaN   1000.00000          NaN   \n",
       "1      1980-01-02           NaN          NaN   1000.00000          NaN   \n",
       "2      1980-01-03           NaN          NaN   1000.00000          NaN   \n",
       "3      1980-01-04           NaN          NaN   1000.00000          NaN   \n",
       "4      1980-01-07           NaN          NaN   1000.00000          NaN   \n",
       "...           ...           ...          ...          ...          ...   \n",
       "10788  2021-05-07  10044.636410  12407.69618  18639.68512  9195.975652   \n",
       "10789  2021-05-10   9942.914377  12379.90294  18610.40217  9196.330422   \n",
       "10790  2021-05-11   9886.637481  12350.99587  18569.73844  9196.472964   \n",
       "10791  2021-05-12   9782.748695  12238.70061  18504.68865  9196.595708   \n",
       "10792  2021-05-13   9797.902172  12302.07261  18546.97186  9196.670147   \n",
       "\n",
       "                SPY          EFA          VWO          GLD          DBC  \n",
       "0       1000.000000   1000.00000          NaN  1000.000000          NaN  \n",
       "1        979.803595   1000.00000          NaN  1092.773438          NaN  \n",
       "2        974.800815   1000.00000          NaN  1238.281250          NaN  \n",
       "3        986.844543   1000.00000          NaN  1148.437500          NaN  \n",
       "4        989.531221   1000.00000          NaN  1237.304688          NaN  \n",
       "...             ...          ...          ...          ...          ...  \n",
       "10788  79683.136810  32776.74957  17588.93250  3449.782195  3901.717983  \n",
       "10789  78894.114390  32601.45952  17260.16018  3460.235035  3874.636158  \n",
       "10790  78189.984420  32173.46756  17214.12733  3460.837116  3916.300121  \n",
       "10791  76528.838200  31659.85032  16773.58338  3426.457160  3912.133177  \n",
       "10792  77448.179130  31896.25442  16753.85765  3440.529620  3803.810122  \n",
       "\n",
       "[10793 rows x 10 columns]"
      ]
     },
     "execution_count": 4,
     "metadata": {},
     "output_type": "execute_result"
    }
   ],
   "source": [
    "df_tar"
   ]
  },
  {
   "cell_type": "code",
   "execution_count": 5,
   "id": "dfcca05d",
   "metadata": {},
   "outputs": [],
   "source": [
    "# Date control \n",
    "\n",
    "df_tar['Date'] = df_tar.Date.apply(lambda x : datetime.datetime.strptime(x, '%Y-%m-%d') )\n",
    "df_tar = df_tar.set_index('Date')"
   ]
  },
  {
   "cell_type": "code",
   "execution_count": 6,
   "id": "80802c14",
   "metadata": {},
   "outputs": [
    {
     "data": {
      "text/plain": [
       "TLT     2608\n",
       "EMB     3413\n",
       "AGG        0\n",
       "Cash    1829\n",
       "SPY        0\n",
       "EFA        0\n",
       "VWO     2087\n",
       "GLD        0\n",
       "DBC     2328\n",
       "dtype: int64"
      ]
     },
     "execution_count": 6,
     "metadata": {},
     "output_type": "execute_result"
    }
   ],
   "source": [
    "df_tar.isna().sum()"
   ]
  },
  {
   "cell_type": "code",
   "execution_count": 7,
   "id": "c33f87de",
   "metadata": {},
   "outputs": [
    {
     "data": {
      "image/png": "[encoded data removed]",
      "text/plain": [
       "<Figure size 432x288 with 1 Axes>"
      ]
     },
     "metadata": {
      "needs_background": "light"
     },
     "output_type": "display_data"
    }
   ],
   "source": [
    "plt.plot(df_tar)\n",
    "plt.show()"
   ]
  },
  {
   "cell_type": "markdown",
   "id": "2e4b6056",
   "metadata": {},
   "source": [
    "# 1990.1.1 부터 진행, x 값들의 시작이 거기부터임 "
   ]
  },
  {
   "cell_type": "code",
   "execution_count": 8,
   "id": "a7c3e5b8",
   "metadata": {},
   "outputs": [],
   "source": [
    "start_date = datetime.datetime.strptime('1990-01-01', '%Y-%m-%d')\n",
    "\n",
    "df_tar = df_tar.loc[start_date:]"
   ]
  },
  {
   "cell_type": "markdown",
   "id": "dbf94640",
   "metadata": {},
   "source": [
    "# 우선 na 다 제거한 상태로 진행 (추후 NA 값 대체)"
   ]
  },
  {
   "cell_type": "code",
   "execution_count": 9,
   "id": "b364a3ea",
   "metadata": {},
   "outputs": [
    {
     "data": {
      "text/plain": [
       "TLT     0\n",
       "EMB     0\n",
       "AGG     0\n",
       "Cash    0\n",
       "SPY     0\n",
       "EFA     0\n",
       "VWO     0\n",
       "GLD     0\n",
       "DBC     0\n",
       "dtype: int64"
      ]
     },
     "execution_count": 9,
     "metadata": {},
     "output_type": "execute_result"
    }
   ],
   "source": [
    "\n",
    "df_tar = df_tar.dropna(axis=0)\n",
    "df_tar.isna().sum()"
   ]
  },
  {
   "cell_type": "code",
   "execution_count": 10,
   "id": "236aead3",
   "metadata": {},
   "outputs": [
    {
     "data": {
      "text/plain": [
       "Timestamp('1993-01-29 00:00:00')"
      ]
     },
     "execution_count": 10,
     "metadata": {},
     "output_type": "execute_result"
    }
   ],
   "source": [
    "df_tar.index.min()"
   ]
  },
  {
   "cell_type": "code",
   "execution_count": 11,
   "id": "fb2be089",
   "metadata": {},
   "outputs": [
    {
     "data": {
      "text/plain": [
       "Timestamp('2021-05-13 00:00:00')"
      ]
     },
     "execution_count": 11,
     "metadata": {},
     "output_type": "execute_result"
    }
   ],
   "source": [
    "df_tar.index.max()"
   ]
  },
  {
   "cell_type": "code",
   "execution_count": 12,
   "id": "cec9d470",
   "metadata": {},
   "outputs": [],
   "source": [
    "\n",
    "# df_tar = df_tar.fillna(0)\n",
    "# df_tar.isna().sum()"
   ]
  },
  {
   "cell_type": "code",
   "execution_count": 13,
   "id": "89212001",
   "metadata": {},
   "outputs": [],
   "source": [
    "from pypfopt import EfficientFrontier\n",
    "from pypfopt import risk_models\n",
    "from pypfopt import expected_returns\n",
    "from pypfopt import plotting"
   ]
  },
  {
   "cell_type": "code",
   "execution_count": 14,
   "id": "568a9ba6",
   "metadata": {},
   "outputs": [],
   "source": [
    "def return_volatility(df_t):\n",
    "    '''\n",
    "    return & volatility\n",
    "    '''  \n",
    "    logret = np.log(df_t/df_t.shift(1)).dropna()\n",
    "    T = logret.shape[0]\n",
    "\n",
    "    sigma = logret.cov() * T #\n",
    "    mu = logret.mean()*T\n",
    "    \n",
    "    return mu, sigma"
   ]
  },
  {
   "cell_type": "code",
   "execution_count": 15,
   "id": "5345a9d6",
   "metadata": {},
   "outputs": [],
   "source": [
    "# def return_volatility(df_t):\n",
    "#     '''\n",
    "#     return & volatility\n",
    "#     '''  \n",
    "#     #Annualized Returns calculation \n",
    "#     returns = expected_returns.mean_historical_return(df_bench)\n",
    "\n",
    "#     #Variance of Portfolio calculation \n",
    "#     variance = risk_models.sample_cov(df_bench)\n",
    "    \n",
    "#     return returns, variance"
   ]
  },
  {
   "cell_type": "code",
   "execution_count": 16,
   "id": "e5b76c30",
   "metadata": {},
   "outputs": [],
   "source": [
    "# def MVO_sharpe(mu, sigma, rf):\n",
    "#     ef = EfficientFrontier(mu, sigma, weight_bounds = (0,1))\n",
    "#     ef.add_constraint(lambda x : x>=0)\n",
    "#     ef.add_constraint(lambda x : x<=0.25)\n",
    "    \n",
    "#     # Find the tangency portfolio\n",
    "#     ef.max_sharpe(risk_free_rate = rf) # risk free rate 추후 조정\n",
    "#     weights = ef.clean_weights() # rounding upto 5th decimal\n",
    "    \n",
    "#     ret_tangent, std_tangent, _ = ef.portfolio_performance(risk_free_rate = rf, verbose = False)\n",
    "#     # LABEL \n",
    "#     weights_label = np.array(list(weights.values()))\n",
    "    \n",
    "#     return weights_label, ret_tangent, std_tangent\n",
    "    "
   ]
  },
  {
   "cell_type": "code",
   "execution_count": 17,
   "id": "442b455c",
   "metadata": {},
   "outputs": [],
   "source": [
    "def MVO_sharpe(mu, sigma, rf):\n",
    "    ef = EfficientFrontier(mu, sigma, weight_bounds = (0,0.25))\n",
    "    \n",
    "    # Find the tangency portfolio\n",
    "    ef.max_sharpe(risk_free_rate = rf) # risk free rate 추후 조정\n",
    "    weights = ef.clean_weights() # rounding upto 5th decimal\n",
    "    \n",
    "    ret_tangent, std_tangent, _ = ef.portfolio_performance(risk_free_rate = rf, verbose = False)\n",
    "    # LABEL \n",
    "    weights_label = np.array(list(weights.values()))\n",
    "    \n",
    "    return weights_label, ret_tangent, std_tangent\n",
    "    "
   ]
  },
  {
   "cell_type": "markdown",
   "id": "24441f5f",
   "metadata": {},
   "source": [
    "# Entire Dataseta"
   ]
  },
  {
   "cell_type": "code",
   "execution_count": 18,
   "id": "ed7e916d",
   "metadata": {},
   "outputs": [],
   "source": [
    "import copy"
   ]
  },
  {
   "cell_type": "code",
   "execution_count": 19,
   "id": "ae7933aa",
   "metadata": {},
   "outputs": [
    {
     "data": {
      "text/plain": [
       "(7380, 9)"
      ]
     },
     "execution_count": 19,
     "metadata": {},
     "output_type": "execute_result"
    }
   ],
   "source": [
    "df_tar.shape"
   ]
  },
  {
   "cell_type": "code",
   "execution_count": 20,
   "id": "df2cc34a",
   "metadata": {},
   "outputs": [],
   "source": [
    "df_t = copy.deepcopy(df_tar)"
   ]
  },
  {
   "cell_type": "code",
   "execution_count": 21,
   "id": "836e5311",
   "metadata": {},
   "outputs": [],
   "source": [
    "# select first & last trading day of the month\n",
    "\n",
    "first_day = []\n",
    "last_day = []\n",
    "count = 0\n",
    "\n",
    "first_day.append(df_t.index[0])\n",
    "\n",
    "prev_month = df_t.index[0].month # 1\n",
    "\n",
    "for ind in range(len(df_t.index)):\n",
    "    date = df_t.index[ind]\n",
    "    \n",
    "    if prev_month == 13:\n",
    "        prev_month = 1\n",
    "    month = date.month # current month\n",
    "    \n",
    "    if month != prev_month:\n",
    "        count = 0\n",
    "        if count == 0 :\n",
    "            first_day.append(date)\n",
    "            last_day.append(df_t.index[ind-1])\n",
    "            \n",
    "        prev_month+=1\n",
    "        count+=1\n",
    "\n",
    "# building benchmark date : fist date and last date of the month\n",
    "first_last_day_dict = {}\n",
    "\n",
    "key = [i for i in range(len(first_day))] # order number\n",
    "value = list(zip(first_day, last_day))\n",
    "\n",
    "bench_dict = dict(zip(key, value))\n",
    "\n",
    "\n",
    "# All label\n",
    "# duration selection \n",
    "    # past + future 1 month\n",
    "    # input : bench_dict, past_duration\n",
    "\n",
    "all_label = []\n",
    "\n",
    "past_duration = 400\n",
    "start_ind = past_duration//30\n",
    "\n",
    "for ind in range(start_ind, len(bench_dict)):\n",
    "    \n",
    "    first_t = bench_dict[ind][0]\n",
    "    last_t = bench_dict[ind][1]\n",
    "\n",
    "    future = df_t[(df_t.index >= first_t) & (df_t.index <= last_t)] # one month\n",
    "    past = df_t[(df_t.index >= first_t - datetime.timedelta(days = past_duration)) & (df_t.index <= first_t)]\n",
    "    # concatenating future and past\n",
    "    df_bench = pd.concat([past, future]).drop_duplicates()\n",
    "    # expected return & volatility\n",
    "#     print (df_bench)\n",
    "    mu, sigma = return_volatility(df_bench)\n",
    "#     print (mu)\n",
    "#     print (sigma)\n",
    "    # calculating weight maximizing sharpe ratio\n",
    "    w, r, s = MVO_sharpe(mu,sigma, 0.00)\n",
    "#     print (w)\n",
    "    # all label appending\n",
    "    all_label.append(w)"
   ]
  },
  {
   "cell_type": "code",
   "execution_count": 22,
   "id": "1918c9dc",
   "metadata": {},
   "outputs": [
    {
     "data": {
      "text/plain": [
       "340"
      ]
     },
     "execution_count": 22,
     "metadata": {},
     "output_type": "execute_result"
    }
   ],
   "source": [
    "len(bench_dict) # future 1 month (first trading day & last trading day)"
   ]
  },
  {
   "cell_type": "code",
   "execution_count": 23,
   "id": "4e27db23",
   "metadata": {},
   "outputs": [
    {
     "data": {
      "text/plain": [
       "327"
      ]
     },
     "execution_count": 23,
     "metadata": {},
     "output_type": "execute_result"
    }
   ],
   "source": [
    "len(all_label) # number of total label "
   ]
  },
  {
   "cell_type": "code",
   "execution_count": 24,
   "id": "2888645b",
   "metadata": {},
   "outputs": [],
   "source": [
    "class LabelGeneration():\n",
    "    \n",
    "    def __init__(self, df_t, rf):\n",
    "        self.df_t = df_t\n",
    "        self.rf = rf\n",
    "    \n",
    "    def return_volatility(self):\n",
    "        '''\n",
    "        return & volatility\n",
    "        '''  \n",
    "        logret = np.log(self.df_t/self.df_t.shift(1)).dropna()\n",
    "        T = logret.shape[0]\n",
    "\n",
    "        sigma = logret.cov() * T # annualize sigma (check again)\n",
    "        mu = logret.mean()*T\n",
    "\n",
    "        return mu, sigma\n",
    "\n",
    "    def MVO_sharpe(self):\n",
    "        \n",
    "        mu, sigma = self.return_volatililty(self.df_t)\n",
    "        ef = EfficientFrontier(mu, sigma, weight_bounds = (0, 0.25))\n",
    "\n",
    "        # Find the tangency portfolio\n",
    "        ef.max_sharpe(risk_free_rate = self.rf) # risk free rate 추후 조정\n",
    "        weights = ef.clean_weights() # rounding upto 5th decimal\n",
    "\n",
    "        ret_tangent, std_tangent, _ = ef.portfolio_performance(risk_free_rate = self.rf, verbose = False)\n",
    "        # LABEL \n",
    "        weights_label = np.array(list(weights.values()))\n",
    "\n",
    "        return weights_label, ret_tangent, std_tangent\n",
    "\n",
    "    def bench_dict_generation(self):\n",
    "        '''\n",
    "        Select first & last trading day of the month\n",
    "        '''\n",
    "        first_day = []\n",
    "        last_day = []\n",
    "        count = 0\n",
    "        first_day.append(self.df_t.index[0])\n",
    "        prev_month = self.df_t.index[0].month # 1\n",
    "        for ind in range(len(self.df_t.index)):\n",
    "            date = self.df_t.index[ind]\n",
    "            if prev_month == 13:\n",
    "                prev_month = 1\n",
    "            month = date.month # current month\n",
    "\n",
    "            if month != prev_month:\n",
    "                count = 0\n",
    "                if count == 0 :\n",
    "                    first_day.append(date)\n",
    "                    last_day.append(self.df_t.index[ind-1])\n",
    "\n",
    "                prev_month+=1\n",
    "                count+=1\n",
    "\n",
    "        # building benchmark date : fist date and last date of the month\n",
    "        first_last_day_dict = {}\n",
    "        key = [i for i in range(len(first_day))] # order number\n",
    "        value = list(zip(first_day, last_day))\n",
    "        bench_dict = dict(zip(key, value))\n",
    "        \n",
    "        return bench_dict\n",
    "\n",
    "    def labelling(self, past_duration):\n",
    "    \n",
    "        all_label = []\n",
    "        \n",
    "        bench_dict = self.bench_dict_generation()\n",
    "        start_ind = past_duration//30\n",
    "\n",
    "        for ind in range(start_ind, len(bench_dict)):\n",
    "\n",
    "            first_t = bench_dict[ind][0]\n",
    "            last_t = bench_dict[ind][1]\n",
    "\n",
    "            future = self.df_t[(self.df_t.index >= first_t) & (self.df_t.index <= last_t)] # one month\n",
    "            past = self.df_t[(self.df_t.index >= first_t - datetime.timedelta(days = past_duration)) & (self.df_t.index <= first_t)]\n",
    "            # concatenating future and past\n",
    "            df_bench = pd.concat([past, future]).drop_duplicates()\n",
    "\n",
    "            mu, sigma = return_volatility(df_bench)\n",
    "\n",
    "            # calculating weight maximizing sharpe ratio\n",
    "            w, r, s = MVO_sharpe(mu,sigma, 0.00)\n",
    "      \n",
    "            # all label appending\n",
    "            all_label.append(w)\n",
    "            \n",
    "        return all_label"
   ]
  },
  {
   "cell_type": "code",
   "execution_count": 25,
   "id": "d84cc0f1",
   "metadata": {},
   "outputs": [],
   "source": [
    "# Labelling \n",
    "\n",
    "rf = 0.01\n",
    "label_generation = LabelGeneration(df_t, rf)"
   ]
  },
  {
   "cell_type": "code",
   "execution_count": 26,
   "id": "e52d8c6b",
   "metadata": {},
   "outputs": [],
   "source": [
    "bench_dict = label_generation.bench_dict_generation()"
   ]
  },
  {
   "cell_type": "code",
   "execution_count": 27,
   "id": "cee47d4f",
   "metadata": {},
   "outputs": [],
   "source": [
    "with open(\"./bench_dict.pkl\", 'wb') as handle:\n",
    "    pickle.dump(bench_dict, handle)"
   ]
  },
  {
   "cell_type": "markdown",
   "id": "cedfb8f8",
   "metadata": {},
   "source": [
    "### argument setting"
   ]
  },
  {
   "cell_type": "code",
   "execution_count": 28,
   "id": "d782a383",
   "metadata": {},
   "outputs": [],
   "source": [
    "\n",
    "past_duration = 400 # df_target 값에 대해서 어디까지 볼 것인가 \n",
    "st_ind = past_duration//30\n",
    "Y_label = label_generation.labelling(past_duration)"
   ]
  },
  {
   "cell_type": "code",
   "execution_count": 29,
   "id": "7952d342",
   "metadata": {},
   "outputs": [
    {
     "data": {
      "text/plain": [
       "327"
      ]
     },
     "execution_count": 29,
     "metadata": {},
     "output_type": "execute_result"
    }
   ],
   "source": [
    "len(Y_label)"
   ]
  },
  {
   "cell_type": "code",
   "execution_count": 30,
   "id": "2c30ad41",
   "metadata": {},
   "outputs": [],
   "source": [
    "#Annualized Returns calculation \n",
    "returns = expected_returns.mean_historical_return(df_bench)\n",
    "\n",
    "#Variance of Portfolio calculation \n",
    "variance = risk_models.sample_cov(df_bench)"
   ]
  },
  {
   "cell_type": "code",
   "execution_count": 31,
   "id": "91b4f7a7",
   "metadata": {},
   "outputs": [],
   "source": [
    "mu, sigma = return_volatility(df_bench)\n",
    "w,r,s = MVO_sharpe(mu, sigma,0.00)"
   ]
  },
  {
   "cell_type": "code",
   "execution_count": 32,
   "id": "0eaa78a3",
   "metadata": {},
   "outputs": [
    {
     "data": {
      "text/plain": [
       "TLT    -0.059857\n",
       "EMB     0.018279\n",
       "AGG     0.027087\n",
       "Cash    0.007270\n",
       "SPY     0.307997\n",
       "EFA     0.203138\n",
       "VWO     0.215764\n",
       "GLD     0.095951\n",
       "DBC     0.225213\n",
       "dtype: float64"
      ]
     },
     "execution_count": 32,
     "metadata": {},
     "output_type": "execute_result"
    }
   ],
   "source": [
    "mu"
   ]
  },
  {
   "cell_type": "code",
   "execution_count": 33,
   "id": "caa73511",
   "metadata": {},
   "outputs": [
    {
     "data": {
      "text/plain": [
       "array([0.00307, 0.     , 0.18426, 0.25   , 0.1923 , 0.     , 0.     ,\n",
       "       0.12036, 0.25   ])"
      ]
     },
     "execution_count": 33,
     "metadata": {},
     "output_type": "execute_result"
    }
   ],
   "source": [
    "w"
   ]
  },
  {
   "cell_type": "code",
   "execution_count": 34,
   "id": "ab0c0423",
   "metadata": {},
   "outputs": [
    {
     "data": {
      "text/plain": [
       "(Timestamp('1994-02-01 00:00:00'), Timestamp('1994-02-28 00:00:00'))"
      ]
     },
     "execution_count": 34,
     "metadata": {},
     "output_type": "execute_result"
    }
   ],
   "source": [
    "bench_dict[st_ind]"
   ]
  },
  {
   "cell_type": "code",
   "execution_count": 35,
   "id": "496ca2e2",
   "metadata": {},
   "outputs": [
    {
     "data": {
      "text/plain": [
       "327"
      ]
     },
     "execution_count": 35,
     "metadata": {},
     "output_type": "execute_result"
    }
   ],
   "source": [
    "len(Y_label)"
   ]
  },
  {
   "cell_type": "code",
   "execution_count": null,
   "id": "8c815457",
   "metadata": {},
   "outputs": [],
   "source": []
  },
  {
   "cell_type": "code",
   "execution_count": null,
   "id": "46f9bdf7",
   "metadata": {},
   "outputs": [],
   "source": []
  },
  {
   "cell_type": "code",
   "execution_count": null,
   "id": "57283217",
   "metadata": {},
   "outputs": [],
   "source": []
  },
  {
   "cell_type": "code",
   "execution_count": null,
   "id": "878ef40d",
   "metadata": {},
   "outputs": [],
   "source": []
  },
  {
   "cell_type": "code",
   "execution_count": null,
   "id": "a2eb1867",
   "metadata": {},
   "outputs": [],
   "source": []
  },
  {
   "cell_type": "code",
   "execution_count": null,
   "id": "fb2d9ed3",
   "metadata": {},
   "outputs": [],
   "source": []
  },
  {
   "cell_type": "code",
   "execution_count": null,
   "id": "c11dd17c",
   "metadata": {},
   "outputs": [],
   "source": []
  },
  {
   "cell_type": "code",
   "execution_count": null,
   "id": "20933457",
   "metadata": {},
   "outputs": [],
   "source": []
  },
  {
   "cell_type": "code",
   "execution_count": 36,
   "id": "8af5139d",
   "metadata": {},
   "outputs": [],
   "source": [
    "class MVO_sharpe():\n",
    "    \n",
    "    def __init__(self, mu, sigma, rf):\n",
    "        self.mu = mu\n",
    "        self.sigma = sigma\n",
    "        self.rf = rf\n",
    "    \n",
    "        self.ef = EfficientFrontier(self.mu,self.sigma)\n",
    "        self.ef.add_constraint(lambda x : x>=0)\n",
    "        self.ef.add_constraint(lambda x : x<=0.25)\n",
    "        \n",
    "        self.weights, self.ret_tangent, self.std_tangent = self.solve_Markowitz_model()\n",
    "    \n",
    "    def solve_Markowitz_model(self):\n",
    "        \n",
    "        # Find the tangency portfolio\n",
    "        self.ef.max_sharpe(risk_free_rate = self.rf) # risk free rate 추후 조정\n",
    "        weights = self.ef.clean_weights() #rounding upto 5th decimal\n",
    "\n",
    "        ret_tangent, std_tangent, _ = self.ef.portfolio_performance(risk_free_rate = self.rf, verbose = True)\n",
    "        \n",
    "        return weights, ret_tangent, std_tangent\n",
    "    \n",
    "    def draw_efficient_frontier(self):\n",
    "        \n",
    "        fig, ax = plt.subplots()\n",
    "        plotting.plot_efficient_frontier(self.ef, ax=ax, show_assets=False)\n",
    "\n",
    "        ax.scatter(self.std_tangent, self.ret_tangent, marker=\"*\", s=100, c=\"r\", label=\"Max Sharpe\")\n",
    "\n",
    "        # Generate random portfolios\n",
    "        n_samples = 10000\n",
    "        w = np.random.dirichlet(np.ones(len(self.mu)), n_samples)\n",
    "        rets = w.dot(self.mu)\n",
    "        stds = np.sqrt(np.diag(w @ self.sigma @ w.T))\n",
    "        sharpes = rets / stds # assumes r_f is 0\n",
    "        ax.scatter(stds, rets, marker=\".\", c=sharpes, cmap=\"viridis_r\")\n",
    "\n",
    "        # Output\n",
    "        ax.set_title(\"Efficient Frontier with random portfolios\")\n",
    "        ax.legend()\n",
    "        plt.tight_layout()\n",
    "        plt.show()"
   ]
  },
  {
   "cell_type": "code",
   "execution_count": 37,
   "id": "8cc2a3bf",
   "metadata": {},
   "outputs": [
    {
     "name": "stdout",
     "output_type": "stream",
     "text": [
      "Expected annual return: 15.3%\n",
      "Annual volatility: 14.4%\n",
      "Sharpe Ratio: 0.93\n"
     ]
    }
   ],
   "source": [
    "rf = 0.02\n",
    "mvo = MVO_sharpe(mu, sigma, rf)"
   ]
  },
  {
   "cell_type": "code",
   "execution_count": 54,
   "id": "1059dc7f",
   "metadata": {},
   "outputs": [
    {
     "data": {
      "text/html": [
       "<div>\n",
       "<style scoped>\n",
       "    .dataframe tbody tr th:only-of-type {\n",
       "        vertical-align: middle;\n",
       "    }\n",
       "\n",
       "    .dataframe tbody tr th {\n",
       "        vertical-align: top;\n",
       "    }\n",
       "\n",
       "    .dataframe thead th {\n",
       "        text-align: right;\n",
       "    }\n",
       "</style>\n",
       "<table border=\"1\" class=\"dataframe\">\n",
       "  <thead>\n",
       "    <tr style=\"text-align: right;\">\n",
       "      <th></th>\n",
       "      <th>TLT</th>\n",
       "      <th>EMB</th>\n",
       "      <th>AGG</th>\n",
       "      <th>Cash</th>\n",
       "      <th>SPY</th>\n",
       "      <th>EFA</th>\n",
       "      <th>VWO</th>\n",
       "      <th>GLD</th>\n",
       "      <th>DBC</th>\n",
       "    </tr>\n",
       "  </thead>\n",
       "  <tbody>\n",
       "    <tr>\n",
       "      <th>TLT</th>\n",
       "      <td>5.116412e-02</td>\n",
       "      <td>0.003815</td>\n",
       "      <td>1.250442e-02</td>\n",
       "      <td>-4.051600e-07</td>\n",
       "      <td>-0.031780</td>\n",
       "      <td>-0.027692</td>\n",
       "      <td>-0.024338</td>\n",
       "      <td>0.008190</td>\n",
       "      <td>-0.014115</td>\n",
       "    </tr>\n",
       "    <tr>\n",
       "      <th>EMB</th>\n",
       "      <td>3.814981e-03</td>\n",
       "      <td>0.041254</td>\n",
       "      <td>1.028544e-02</td>\n",
       "      <td>-1.257344e-05</td>\n",
       "      <td>0.046902</td>\n",
       "      <td>0.047306</td>\n",
       "      <td>0.050702</td>\n",
       "      <td>0.010477</td>\n",
       "      <td>0.028166</td>\n",
       "    </tr>\n",
       "    <tr>\n",
       "      <th>AGG</th>\n",
       "      <td>1.250442e-02</td>\n",
       "      <td>0.010285</td>\n",
       "      <td>7.683725e-03</td>\n",
       "      <td>-6.889892e-07</td>\n",
       "      <td>0.005261</td>\n",
       "      <td>0.006529</td>\n",
       "      <td>0.006392</td>\n",
       "      <td>0.005044</td>\n",
       "      <td>0.003349</td>\n",
       "    </tr>\n",
       "    <tr>\n",
       "      <th>Cash</th>\n",
       "      <td>-4.051600e-07</td>\n",
       "      <td>-0.000013</td>\n",
       "      <td>-6.889892e-07</td>\n",
       "      <td>1.929957e-07</td>\n",
       "      <td>-0.000002</td>\n",
       "      <td>-0.000003</td>\n",
       "      <td>-0.000007</td>\n",
       "      <td>0.000010</td>\n",
       "      <td>-0.000014</td>\n",
       "    </tr>\n",
       "    <tr>\n",
       "      <th>SPY</th>\n",
       "      <td>-3.177958e-02</td>\n",
       "      <td>0.046902</td>\n",
       "      <td>5.260671e-03</td>\n",
       "      <td>-1.606427e-06</td>\n",
       "      <td>0.116089</td>\n",
       "      <td>0.099892</td>\n",
       "      <td>0.099723</td>\n",
       "      <td>0.013237</td>\n",
       "      <td>0.047053</td>\n",
       "    </tr>\n",
       "    <tr>\n",
       "      <th>EFA</th>\n",
       "      <td>-2.769163e-02</td>\n",
       "      <td>0.047306</td>\n",
       "      <td>6.528933e-03</td>\n",
       "      <td>-2.898126e-06</td>\n",
       "      <td>0.099892</td>\n",
       "      <td>0.102265</td>\n",
       "      <td>0.096738</td>\n",
       "      <td>0.014795</td>\n",
       "      <td>0.045353</td>\n",
       "    </tr>\n",
       "    <tr>\n",
       "      <th>VWO</th>\n",
       "      <td>-2.433849e-02</td>\n",
       "      <td>0.050702</td>\n",
       "      <td>6.392306e-03</td>\n",
       "      <td>-6.599071e-06</td>\n",
       "      <td>0.099723</td>\n",
       "      <td>0.096738</td>\n",
       "      <td>0.116509</td>\n",
       "      <td>0.016079</td>\n",
       "      <td>0.048432</td>\n",
       "    </tr>\n",
       "    <tr>\n",
       "      <th>GLD</th>\n",
       "      <td>8.190337e-03</td>\n",
       "      <td>0.010477</td>\n",
       "      <td>5.043745e-03</td>\n",
       "      <td>1.034104e-05</td>\n",
       "      <td>0.013237</td>\n",
       "      <td>0.014795</td>\n",
       "      <td>0.016079</td>\n",
       "      <td>0.045282</td>\n",
       "      <td>0.011838</td>\n",
       "    </tr>\n",
       "    <tr>\n",
       "      <th>DBC</th>\n",
       "      <td>-1.411460e-02</td>\n",
       "      <td>0.028166</td>\n",
       "      <td>3.348854e-03</td>\n",
       "      <td>-1.429727e-05</td>\n",
       "      <td>0.047053</td>\n",
       "      <td>0.045353</td>\n",
       "      <td>0.048432</td>\n",
       "      <td>0.011838</td>\n",
       "      <td>0.057796</td>\n",
       "    </tr>\n",
       "  </tbody>\n",
       "</table>\n",
       "</div>"
      ],
      "text/plain": [
       "               TLT       EMB           AGG          Cash       SPY       EFA  \\\n",
       "TLT   5.116412e-02  0.003815  1.250442e-02 -4.051600e-07 -0.031780 -0.027692   \n",
       "EMB   3.814981e-03  0.041254  1.028544e-02 -1.257344e-05  0.046902  0.047306   \n",
       "AGG   1.250442e-02  0.010285  7.683725e-03 -6.889892e-07  0.005261  0.006529   \n",
       "Cash -4.051600e-07 -0.000013 -6.889892e-07  1.929957e-07 -0.000002 -0.000003   \n",
       "SPY  -3.177958e-02  0.046902  5.260671e-03 -1.606427e-06  0.116089  0.099892   \n",
       "EFA  -2.769163e-02  0.047306  6.528933e-03 -2.898126e-06  0.099892  0.102265   \n",
       "VWO  -2.433849e-02  0.050702  6.392306e-03 -6.599071e-06  0.099723  0.096738   \n",
       "GLD   8.190337e-03  0.010477  5.043745e-03  1.034104e-05  0.013237  0.014795   \n",
       "DBC  -1.411460e-02  0.028166  3.348854e-03 -1.429727e-05  0.047053  0.045353   \n",
       "\n",
       "           VWO       GLD       DBC  \n",
       "TLT  -0.024338  0.008190 -0.014115  \n",
       "EMB   0.050702  0.010477  0.028166  \n",
       "AGG   0.006392  0.005044  0.003349  \n",
       "Cash -0.000007  0.000010 -0.000014  \n",
       "SPY   0.099723  0.013237  0.047053  \n",
       "EFA   0.096738  0.014795  0.045353  \n",
       "VWO   0.116509  0.016079  0.048432  \n",
       "GLD   0.016079  0.045282  0.011838  \n",
       "DBC   0.048432  0.011838  0.057796  "
      ]
     },
     "execution_count": 54,
     "metadata": {},
     "output_type": "execute_result"
    }
   ],
   "source": [
    "mvo.sigma"
   ]
  },
  {
   "cell_type": "code",
   "execution_count": 49,
   "id": "8cf9668f",
   "metadata": {},
   "outputs": [
    {
     "data": {
      "text/plain": [
       "TLT    -0.059857\n",
       "EMB     0.018279\n",
       "AGG     0.027087\n",
       "Cash    0.007270\n",
       "SPY     0.307997\n",
       "EFA     0.203138\n",
       "VWO     0.215764\n",
       "GLD     0.095951\n",
       "DBC     0.225213\n",
       "dtype: float64"
      ]
     },
     "execution_count": 49,
     "metadata": {},
     "output_type": "execute_result"
    }
   ],
   "source": [
    "mu"
   ]
  },
  {
   "cell_type": "code",
   "execution_count": 53,
   "id": "9b3ed1aa",
   "metadata": {},
   "outputs": [
    {
     "name": "stdout",
     "output_type": "stream",
     "text": [
      "Expected annual return: 11.2%\n",
      "Annual volatility: 10.5%\n",
      "Sharpe Ratio: 1.25\n"
     ]
    },
    {
     "data": {
      "image/png": "[encoded data removed]",
      "text/plain": [
       "<Figure size 432x288 with 1 Axes>"
      ]
     },
     "metadata": {
      "needs_background": "light"
     },
     "output_type": "display_data"
    }
   ],
   "source": [
    "ef = EfficientFrontier(mu,sigma)\n",
    "ef.add_constraint(lambda x : x>=0)\n",
    "ef.add_constraint(lambda x : x<=0.25)\n",
    "\n",
    "\n",
    "fig, ax = plt.subplots()\n",
    "plotting.plot_efficient_frontier(ef, ax=ax, show_assets=False)\n",
    "\n",
    "# Solve the problem : Find the tangency portfolio\n",
    "ef.max_sharpe(risk_free_rate = -0.02) # risk free rate 추후 조정\n",
    "weights = ef.clean_weights() #rounding upto 5th decimal\n",
    "ret_tangent, std_tangent, _ = ef.portfolio_performance(risk_free_rate = rf, verbose = True)\n",
    "\n",
    "\n",
    "ax.scatter(std_tangent, ret_tangent, marker=\"*\", s=200, c=\"r\", label=\"Max Sharpe\")\n",
    "\n",
    "# Generate random portfolios\n",
    "n_samples = 10000\n",
    "w = np.random.dirichlet(np.ones(len(mu)), n_samples)\n",
    "rets = w.dot(mu)\n",
    "stds = np.sqrt(np.diag(w @ sigma @ w.T))\n",
    "sharpes = (rets-rf) / stds # assumes r_f is 0\n",
    "ax.scatter(stds, rets, marker=\".\", c=sharpes, cmap=\"viridis_r\")\n",
    "\n",
    "# Output\n",
    "ax.set_title(\"Efficient Frontier with Target Assets\")\n",
    "ax.legend()\n",
    "plt.tight_layout()\n",
    "plt.show()"
   ]
  },
  {
   "cell_type": "code",
   "execution_count": null,
   "id": "4ca90b1f",
   "metadata": {},
   "outputs": [],
   "source": []
  }
 ],
 "metadata": {
  "kernelspec": {
   "display_name": "QRFT",
   "language": "python",
   "name": "qrft"
  },
  "language_info": {
   "codemirror_mode": {
    "name": "ipython",
    "version": 3
   },
   "file_extension": ".py",
   "mimetype": "text/x-python",
   "name": "python",
   "nbconvert_exporter": "python",
   "pygments_lexer": "ipython3",
   "version": "3.7.10"
  }
 },
 "nbformat": 4,
 "nbformat_minor": 5
}
